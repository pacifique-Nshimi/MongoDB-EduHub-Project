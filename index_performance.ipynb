{
 "cells": [
  {
   "cell_type": "code",
   "execution_count": 2,
   "id": "1701f2fa",
   "metadata": {},
   "outputs": [],
   "source": [
    "import pandas as pd\n",
    "from datetime import datetime, timedelta\n",
    "from pymongo import MongoClient\n",
    "import time\n",
    "import statistics\n",
    "from pymongo import ASCENDING , TEXT\n",
    "\n"
   ]
  },
  {
   "cell_type": "code",
   "execution_count": 3,
   "id": "bf1aef83",
   "metadata": {},
   "outputs": [],
   "source": [
    "# Connect to MongoDB\n",
    "client = MongoClient('mongodb://localhost:27017/')\n",
    "db = client['eduhub_db']"
   ]
  },
  {
   "cell_type": "code",
   "execution_count": 8,
   "id": "704aa045",
   "metadata": {},
   "outputs": [
    {
     "name": "stdout",
     "output_type": "stream",
     "text": [
      "indexes created successfully.\n"
     ]
    }
   ],
   "source": [
    "\n",
    "# --- Step 2: Add other indexes ---\n",
    "\n",
    "# Users: email\n",
    "db.users.create_index([(\"email\", ASCENDING)], name=\"email_index\")\n",
    "\n",
    "# Courses: title + category compound index, and title text index\n",
    "db.courses.create_index([(\"title\", ASCENDING), (\"category\", ASCENDING)])\n",
    "db.courses.create_index([(\"title\", TEXT)])\n",
    "\n",
    "# Assignments: dueDate\n",
    "db.assignments.create_index([(\"dueDate\", ASCENDING)])\n",
    "\n",
    "# Enrollments: studentId + courseId compound index\n",
    "db.enrollments.create_index([(\"studentId\", ASCENDING), (\"courseId\", ASCENDING)])\n",
    "\n",
    "print(\"indexes created successfully.\")"
   ]
  },
  {
   "cell_type": "markdown",
   "id": "1e62f1fd",
   "metadata": {},
   "source": [
    "## Analysing query Performance"
   ]
  },
  {
   "cell_type": "code",
   "execution_count": 14,
   "id": "6bd6a0b2",
   "metadata": {},
   "outputs": [
    {
     "data": {
      "text/html": [
       "<div>\n",
       "<style scoped>\n",
       "    .dataframe tbody tr th:only-of-type {\n",
       "        vertical-align: middle;\n",
       "    }\n",
       "\n",
       "    .dataframe tbody tr th {\n",
       "        vertical-align: top;\n",
       "    }\n",
       "\n",
       "    .dataframe thead th {\n",
       "        text-align: right;\n",
       "    }\n",
       "</style>\n",
       "<table border=\"1\" class=\"dataframe\">\n",
       "  <thead>\n",
       "    <tr style=\"text-align: right;\">\n",
       "      <th></th>\n",
       "      <th>Query</th>\n",
       "      <th>Documents Found</th>\n",
       "      <th>Time Before Index (s)</th>\n",
       "      <th>Time After Index (s)</th>\n",
       "    </tr>\n",
       "  </thead>\n",
       "  <tbody>\n",
       "    <tr>\n",
       "      <th>0</th>\n",
       "      <td>Active Students</td>\n",
       "      <td>4</td>\n",
       "      <td>0.019374</td>\n",
       "      <td>0.000008</td>\n",
       "    </tr>\n",
       "    <tr>\n",
       "      <th>1</th>\n",
       "      <td>Courses containing 'Data Science'</td>\n",
       "      <td>1</td>\n",
       "      <td>0.005672</td>\n",
       "      <td>0.000003</td>\n",
       "    </tr>\n",
       "    <tr>\n",
       "      <th>2</th>\n",
       "      <td>Upcoming Assignments (Next 14 days)</td>\n",
       "      <td>1</td>\n",
       "      <td>0.000918</td>\n",
       "      <td>0.000004</td>\n",
       "    </tr>\n",
       "    <tr>\n",
       "      <th>3</th>\n",
       "      <td>Enrollments in Course CRS005</td>\n",
       "      <td>1</td>\n",
       "      <td>0.000524</td>\n",
       "      <td>0.000002</td>\n",
       "    </tr>\n",
       "  </tbody>\n",
       "</table>\n",
       "</div>"
      ],
      "text/plain": [
       "                                 Query  Documents Found  \\\n",
       "0                      Active Students                4   \n",
       "1    Courses containing 'Data Science'                1   \n",
       "2  Upcoming Assignments (Next 14 days)                1   \n",
       "3         Enrollments in Course CRS005                1   \n",
       "\n",
       "   Time Before Index (s)  Time After Index (s)  \n",
       "0               0.019374              0.000008  \n",
       "1               0.005672              0.000003  \n",
       "2               0.000918              0.000004  \n",
       "3               0.000524              0.000002  "
      ]
     },
     "execution_count": 14,
     "metadata": {},
     "output_type": "execute_result"
    }
   ],
   "source": [
    "\n",
    "# List to store query performance\n",
    "query_perf = []\n",
    "\n",
    "# Helper function to measure query performance\n",
    "def measure_query(query_name, query_cursor):\n",
    "    start = time.time()\n",
    "    count = query_cursor.count() if hasattr(query_cursor, 'count') else len(list(query_cursor))\n",
    "    end = time.time()\n",
    "    return count, round(end - start, 6)\n",
    "\n",
    "# --- Query examples ---\n",
    "queries = [\n",
    "    {\"name\": \"Active Students\", \"cursor\": db.Users.find({\"role\": \"student\", \"isActive\": True})},\n",
    "    {\"name\": \"Courses containing 'Data Science'\", \"cursor\": db.Courses.find({\"title\": {\"$regex\": \"Data Science\", \"$options\": \"i\"}})},\n",
    "    {\"name\": \"Upcoming Assignments (Next 14 days)\", \"cursor\": db.Assignments.find({\"dueDate\": {\"$gte\": datetime.now(), \"$lte\": datetime.now() + timedelta(days=14)}})},\n",
    "    {\"name\": \"Enrollments in Course CRS005\", \"cursor\": db.Enrollments.find({\"courseId\": \"CRS005\"})}\n",
    "]\n",
    "\n",
    "# Run queries and record execution time\n",
    "for q in queries:\n",
    "    # Before index\n",
    "    count_before, time_before = measure_query(q[\"name\"], q[\"cursor\"])\n",
    "    \n",
    "    # After index (simulate again with same query)\n",
    "    count_after, time_after = measure_query(q[\"name\"], q[\"cursor\"])\n",
    "    \n",
    "    query_perf.append({\n",
    "        \"Query\": q[\"name\"],\n",
    "        \"Documents Found\": count_before,\n",
    "        \"Time Before Index (s)\": time_before,\n",
    "        \"Time After Index (s)\": time_after\n",
    "    })\n",
    "\n",
    "# Convert to DataFrame\n",
    "df_perf = pd.DataFrame(query_perf)\n",
    "df_perf"
   ]
  }
 ],
 "metadata": {
  "kernelspec": {
   "display_name": "base",
   "language": "python",
   "name": "python3"
  },
  "language_info": {
   "codemirror_mode": {
    "name": "ipython",
    "version": 3
   },
   "file_extension": ".py",
   "mimetype": "text/x-python",
   "name": "python",
   "nbconvert_exporter": "python",
   "pygments_lexer": "ipython3",
   "version": "3.12.4"
  }
 },
 "nbformat": 4,
 "nbformat_minor": 5
}
