{
 "cells": [
  {
   "cell_type": "code",
   "execution_count": 1,
   "id": "af11ad42",
   "metadata": {},
   "outputs": [],
   "source": [
    "import pandas as pd\n",
    "from datetime import datetime\n",
    "from pymongo import MongoClient\n",
    "\n"
   ]
  },
  {
   "cell_type": "code",
   "execution_count": 2,
   "id": "ee36c4d4",
   "metadata": {},
   "outputs": [],
   "source": [
    "# Connect to MongoDB\n",
    "client = MongoClient('mongodb://localhost:27017/')\n",
    "db = client['eduhub_db']"
   ]
  },
  {
   "cell_type": "markdown",
   "id": "d835866e",
   "metadata": {},
   "source": [
    "### Create operations"
   ]
  },
  {
   "cell_type": "code",
   "execution_count": 3,
   "id": "81e88e9b",
   "metadata": {},
   "outputs": [],
   "source": [
    "def add_record(db, collection_name, data, key_field):\n",
    "    \n",
    "    try:\n",
    "        db[collection_name].insert_one(data)\n",
    "        print(f\"Added {collection_name[:-1]}: {data.get(key_field)}\")\n",
    "    except Exception as e:\n",
    "        print(f\"Error adding {collection_name[:-1]} {data.get(key_field)}: {e}\")"
   ]
  },
  {
   "cell_type": "markdown",
   "id": "abb4f3ec",
   "metadata": {},
   "source": [
    "### Adding Record"
   ]
  },
  {
   "cell_type": "code",
   "execution_count": 4,
   "id": "95473de6",
   "metadata": {},
   "outputs": [
    {
     "name": "stdout",
     "output_type": "stream",
     "text": [
      "Added user: STU020\n",
      "Added course: CRS012\n",
      "Added enrollment: ENR019\n",
      "Added lesson: LES030\n"
     ]
    }
   ],
   "source": [
    "# --- New student ---\n",
    "new_student = {\n",
    "    \"userId\": \"STU020\",\n",
    "    \"email\": \"student17@example.com\",\n",
    "    \"firstName\": \"Ada\",\n",
    "    \"lastName\": \"Eze\",\n",
    "    \"role\": \"student\",\n",
    "    \"dateJoined\": datetime.now(),\n",
    "    \"profile\": {\n",
    "        \"bio\": \"Passionate learner exploring data science and analytics.\",\n",
    "        \"avatar\": \"https://example.com/avatar16.png\",\n",
    "        \"skills\": [\"Python\", \"SQL\"]\n",
    "    },\n",
    "    \"isActive\": True\n",
    "}\n",
    "\n",
    "# --- New course ---\n",
    "new_course = {\n",
    "    \"courseId\": \"CRS012\",\n",
    "    \"title\": \"Data Visualization with Power BI\",\n",
    "    \"description\": \"Learn to design and develop interactive dashboards with Power BI.\",\n",
    "    \"instructorId\": \"INST001\",\n",
    "    \"category\": \"Data Science\",\n",
    "    \"level\": \"beginner\",\n",
    "    \"duration\": 40,\n",
    "    \"price\": 99.99,\n",
    "    \"tags\": [\"data\", \"visualization\", \"business-intelligence\"],\n",
    "    \"createdAt\": datetime.now(),\n",
    "    \"updatedAt\": datetime.now(),\n",
    "    \"isPublished\": True\n",
    "}\n",
    "\n",
    "# --- New enrollment ---\n",
    "new_enrollment = {\n",
    "    \"enrollmentId\": \"ENR019\",\n",
    "    \"studentId\": \"STU016\",\n",
    "    \"courseId\": \"CRS009\",\n",
    "    \"enrolledAt\": datetime.now(),\n",
    "    \"status\": \"active\"\n",
    "}\n",
    "\n",
    "# --- New lesson ---\n",
    "new_lesson = {\n",
    "    \"lessonId\": \"LES030\",\n",
    "    \"courseId\": \"CRS009\",\n",
    "    \"title\": \"Getting Started with Power BI\",\n",
    "    \"content\": \"This lesson introduces the Power BI interface and its core features.\",\n",
    "    \"order\": 1,\n",
    "    \"resources\": [\"https://docs.microsoft.com/en-us/power-bi/\"],\n",
    "    \"createdAt\": datetime.now(),\n",
    "    \"updatedAt\": datetime.now()\n",
    "}\n",
    "\n",
    "# --- Insert all at once ---\n",
    "records = [\n",
    "    (\"users\", new_student, \"userId\"),\n",
    "    (\"courses\", new_course, \"courseId\"),\n",
    "    (\"enrollments\", new_enrollment, \"enrollmentId\"),\n",
    "    (\"lessons\", new_lesson, \"lessonId\")\n",
    "]\n",
    "\n",
    "for collection, data, key in records:\n",
    "    add_record(db, collection, data, key)"
   ]
  },
  {
   "cell_type": "markdown",
   "id": "50fa5570",
   "metadata": {},
   "source": [
    "### Active Student"
   ]
  },
  {
   "cell_type": "code",
   "execution_count": 24,
   "id": "e7a66bd9",
   "metadata": {},
   "outputs": [
    {
     "name": "stdout",
     "output_type": "stream",
     "text": [
      "ID: STU003, Name: Lori Hernandez, Email: robert66@example.net\n",
      "ID: STU006, Name: Eric Mcfarland, Email: edavenport@example.net\n",
      "ID: STU011, Name: Anthony Washington, Email: dpatterson@example.com\n",
      "ID: STU013, Name: Timothy Duke, Email: flemingtracy@example.net\n",
      "ID: STU015, Name: Fernando Bowman, Email: kreyes@example.net\n"
     ]
    }
   ],
   "source": [
    "def get_active_students(db):\n",
    "    try:\n",
    "        active_students = db.Users.find(\n",
    "            {\"role\": \"student\", \"isActive\": True},\n",
    "            {\"_id\": 0, \"userId\": 1, \"firstName\": 1, \"lastName\": 1, \"email\": 1}\n",
    "        )\n",
    "\n",
    "        active_students_list = list(active_students)\n",
    "\n",
    "        if active_students_list:\n",
    "        \n",
    "            for s in active_students_list:\n",
    "                print(f\"ID: {s['userId']}, Name: {s['firstName']} {s['lastName']}, Email: {s['email']}\")\n",
    "        else:\n",
    "            print(\"No active students found.\")\n",
    "\n",
    "    except Exception as e:\n",
    "        print(\"Error fetching active students:\", e)\n",
    "\n",
    "get_active_students(db)"
   ]
  },
  {
   "cell_type": "markdown",
   "id": "0a9a32e5",
   "metadata": {},
   "source": [
    "### Getting Course with Instructor"
   ]
  },
  {
   "cell_type": "code",
   "execution_count": 23,
   "id": "da130433",
   "metadata": {},
   "outputs": [
    {
     "name": "stdout",
     "output_type": "stream",
     "text": [
      "No courses found.\n"
     ]
    }
   ],
   "source": [
    "def get_courses_with_instructor(db):\n",
    "    try:\n",
    "        course_with_instructor = db.Courses.aggregate([\n",
    "            {\n",
    "                \"$lookup\": {\n",
    "                    \"from\": \"users\",\n",
    "                    \"localField\": \"instructorId\",\n",
    "                    \"foreignField\": \"userId\",\n",
    "                    \"as\": \"instructor\"\n",
    "                }\n",
    "            },\n",
    "            {\"$unwind\": \"$instructor\"},\n",
    "            {\n",
    "                \"$project\": {\n",
    "                    \"_id\": 0,\n",
    "                    \"courseId\": 1,\n",
    "                    \"title\": 1,\n",
    "                    \"category\": 1,\n",
    "                    \"level\": 1,\n",
    "                    \"instructorFirstName\": \"$instructor.firstName\",\n",
    "                    \"instructorLastName\": \"$instructor.lastName\",\n",
    "                    \"instructorEmail\": \"$instructor.email\"\n",
    "                }\n",
    "            }\n",
    "        ])\n",
    "\n",
    "        results = list(course_with_instructor)\n",
    "\n",
    "        if results:\n",
    "            print(\"Courses with Instructor Information:\\n\")\n",
    "            for course in results:\n",
    "                print(f\"Course ID: {course['courseId']}\")\n",
    "                print(f\"Title: {course['title']}\")\n",
    "                print(f\"Category: {course['category']}\")\n",
    "                print(f\"Level: {course['level']}\")\n",
    "                print(f\"Instructor: {course['instructorFirstName']} {course['instructorLastName']} ({course['instructorEmail']})\\n\")\n",
    "        else:\n",
    "            print(\"No courses found.\")\n",
    "\n",
    "    except Exception as e:\n",
    "        print(\"Error fetching courses with instructor info:\", e)\n",
    "\n",
    "get_courses_with_instructor(db)"
   ]
  },
  {
   "cell_type": "markdown",
   "id": "ee99ddae",
   "metadata": {},
   "source": [
    "## Courses in specific Category"
   ]
  },
  {
   "cell_type": "code",
   "execution_count": 22,
   "id": "e77c453e",
   "metadata": {},
   "outputs": [
    {
     "name": "stdout",
     "output_type": "stream",
     "text": [
      "Courses in category 'Data Science':\n",
      "\n",
      "- Introduction to Data Science (Beginner) — ID: CRS002\n"
     ]
    }
   ],
   "source": [
    "category = \"Data Science\"\n",
    "\n",
    "def get_courses_by_category(db, category):\n",
    "    try:\n",
    "        # Fetch courses in the given category\n",
    "        courses_in_category = db.Courses.find(\n",
    "            {\"category\": category},\n",
    "            {\"_id\": 0, \"courseId\": 1, \"title\": 1, \"level\": 1}\n",
    "        )\n",
    "\n",
    "        courses_list = list(courses_in_category)\n",
    "\n",
    "        if courses_list:\n",
    "            print(f\"Courses in category '{category}':\\n\")\n",
    "            for course in courses_list:\n",
    "                print(f\"- {course['title']} ({course['level'].capitalize()}) — ID: {course['courseId']}\")\n",
    "        else:\n",
    "            print(f\"No courses found in category '{category}'.\")\n",
    "\n",
    "    except Exception as e:\n",
    "        print(f\"Error fetching courses in category '{category}': {e}\")\n",
    "\n",
    "\n",
    "get_courses_by_category(db, category)"
   ]
  },
  {
   "cell_type": "markdown",
   "id": "b66f346b",
   "metadata": {},
   "source": [
    "## Find Student Enrolled in a Particular Course"
   ]
  },
  {
   "cell_type": "code",
   "execution_count": 21,
   "id": "9606cb7c",
   "metadata": {},
   "outputs": [
    {
     "name": "stdout",
     "output_type": "stream",
     "text": [
      "Students enrolled in course CRS005:\n",
      "\n",
      "- Nancy Baldwin (farleykristen@example.org) — ID: STU005\n"
     ]
    }
   ],
   "source": [
    "def get_students_in_course(db, course_id):\n",
    "    try:\n",
    "        # Aggregate students enrolled in a specific course\n",
    "        students_in_course = db.Enrollments.aggregate([\n",
    "            {\"$match\": {\"courseId\": course_id}},\n",
    "            {\n",
    "                \"$lookup\": {\n",
    "                    \"from\": \"Users\",\n",
    "                    \"localField\": \"studentId\",\n",
    "                    \"foreignField\": \"userId\",\n",
    "                    \"as\": \"student\"\n",
    "                }\n",
    "            },\n",
    "            {\"$unwind\": \"$student\"},\n",
    "            {\n",
    "                \"$project\": {\n",
    "                    \"_id\": 0,\n",
    "                    \"userId\": \"$student.userId\",\n",
    "                    \"firstName\": \"$student.firstName\",\n",
    "                    \"lastName\": \"$student.lastName\",\n",
    "                    \"email\": \"$student.email\"\n",
    "                }\n",
    "            }\n",
    "        ])\n",
    "\n",
    "        students_list = list(students_in_course)\n",
    "\n",
    "        if students_list:\n",
    "            print(f\"Students enrolled in course {course_id}:\\n\")\n",
    "            for s in students_list:\n",
    "                print(f\"- {s['firstName']} {s['lastName']} ({s['email']}) — ID: {s['userId']}\")\n",
    "        else:\n",
    "            print(f\"No students found for course {course_id}.\")\n",
    "\n",
    "    except Exception as e:\n",
    "        print(f\"Error fetching students for course '{course_id}': {e}\")\n",
    "\n",
    "# Use Case\n",
    "course_id = \"CRS005\"\n",
    "get_students_in_course(db, course_id)"
   ]
  },
  {
   "cell_type": "markdown",
   "id": "c4838937",
   "metadata": {},
   "source": [
    "## Search Course By Title"
   ]
  },
  {
   "cell_type": "code",
   "execution_count": 20,
   "id": "1f453fec",
   "metadata": {},
   "outputs": [
    {
     "name": "stdout",
     "output_type": "stream",
     "text": [
      "Courses matching 'Cloud Computing':\n",
      "\n",
      "- Cloud Computing with AWS (Advanced | Cloud Computing)\n"
     ]
    }
   ],
   "source": [
    "search_term = \"Cloud Computing\"\n",
    "\n",
    "def search_courses_by_title(db, search_term):\n",
    "    try:\n",
    "        matched_courses = db.Courses.find(\n",
    "            {\"title\": {\"$regex\": search_term, \"$options\": \"i\"}},\n",
    "            {\"_id\": 0, \"courseId\": 1, \"title\": 1, \"category\": 1, \"level\": 1}\n",
    "        )\n",
    "\n",
    "        courses = list(matched_courses)\n",
    "\n",
    "        if courses:\n",
    "            print(f\"Courses matching '{search_term}':\\n\")\n",
    "            for course in courses:\n",
    "                print(f\"- {course['title']} ({course['level'].capitalize()} | {course['category']})\")\n",
    "        else:\n",
    "            print(f\"No courses found matching '{search_term}'.\")\n",
    "            \n",
    "    except Exception as e:\n",
    "        print(f\"Error searching courses with term '{search_term}': {e}\")\n",
    "\n",
    "search_courses_by_title(db, search_term)"
   ]
  },
  {
   "cell_type": "markdown",
   "id": "c6e085f1",
   "metadata": {},
   "source": [
    "## Update a Users Information"
   ]
  },
  {
   "cell_type": "code",
   "execution_count": 26,
   "id": "6c69d594",
   "metadata": {},
   "outputs": [
    {
     "name": "stdout",
     "output_type": "stream",
     "text": [
      "User STU015 profile updated successfully.\n",
      "\n",
      "None\n"
     ]
    }
   ],
   "source": [
    "def update_user_profile(db, user_id, bio, avatar, skills):\n",
    "    try:\n",
    "        result = db.Users.update_one(\n",
    "            {\"userId\": user_id},\n",
    "            {\n",
    "                \"$set\": {\n",
    "                    \"profile.bio\": bio,\n",
    "                    \"profile.avatar\": avatar,\n",
    "                    \"profile.skills\": skills\n",
    "                }\n",
    "            }\n",
    "        )\n",
    "\n",
    "        if result.matched_count > 0:\n",
    "            print(f\"User {user_id} profile updated successfully.\\n\")\n",
    "\n",
    "            # Show the updated user profile\n",
    "            updated_user = db.users.find_one(\n",
    "                {\"userId\": user_id},\n",
    "                {\"_id\": 0, \"userId\": 1, \"profile\": 1}\n",
    "            )\n",
    "            print(updated_user)\n",
    "        else:\n",
    "            print(f\"No user found with ID {user_id}\")\n",
    "\n",
    "    except Exception as e:\n",
    "        print(f\"Error updating user {user_id}: {e}\")\n",
    "\n",
    "\n",
    "\n",
    "update_user_profile(\n",
    "    db,\n",
    "    user_id=\"STU015\",\n",
    "    bio=\"Enthusiastic learner with interest in AI and Machine Learning.\",\n",
    "    avatar=\"https://example.com/new_avatar.png\",\n",
    "    skills=[\"Python\", \"SQL\", \"Machine Learning\"]\n",
    ")"
   ]
  },
  {
   "cell_type": "markdown",
   "id": "3dd23d61",
   "metadata": {},
   "source": [
    "## Mark course as published"
   ]
  },
  {
   "cell_type": "code",
   "execution_count": 33,
   "id": "07008aea",
   "metadata": {},
   "outputs": [
    {
     "name": "stdout",
     "output_type": "stream",
     "text": [
      "Course CRS004 marked as published successfully.\n",
      "\n"
     ]
    }
   ],
   "source": [
    "\n",
    "\n",
    "def publish_course(db, course_id):\n",
    "    try:\n",
    "        result = db.Courses.update_one(\n",
    "            {\"courseId\": course_id},\n",
    "            {\"$set\": {\"isPublished\": True, \"updatedAt\": datetime.now()}}\n",
    "        )\n",
    "\n",
    "        if result.matched_count > 0:\n",
    "            print(f\"Course {course_id} marked as published successfully.\\n\")\n",
    "\n",
    "            # Display updated course details\n",
    "            updated_course = db.courses.find_one(\n",
    "                {\"courseId\": course_id},\n",
    "                {\"_id\": 0, \"courseId\": 1, \"title\": 1, \"isPublished\": 1, \"updatedAt\": 1}\n",
    "            )\n",
    "            \n",
    "        else:\n",
    "            print(f\"No course found with ID {course_id}\")\n",
    "\n",
    "    except Exception as e:\n",
    "        print(f\"Error marking course {course_id} as published: {e}\")\n",
    "\n",
    "\n",
    "\n",
    "publish_course(db, \"CRS004\")"
   ]
  },
  {
   "cell_type": "markdown",
   "id": "78ce8846",
   "metadata": {},
   "source": [
    "## Update Assignment"
   ]
  },
  {
   "cell_type": "code",
   "execution_count": 32,
   "id": "00555dd9",
   "metadata": {},
   "outputs": [
    {
     "name": "stdout",
     "output_type": "stream",
     "text": [
      "Updated grade and status for submission SUB010 successfully.\n",
      "\n"
     ]
    }
   ],
   "source": [
    "\n",
    "def update_submission_grade(db, submission_id, grade, feedback, status):\n",
    "    try:\n",
    "        result = db.Submissions.update_one(\n",
    "            {\"submissionId\": submission_id},\n",
    "            {\n",
    "                \"$set\": {\n",
    "                    \"grade\": grade,\n",
    "                    \"feedback\": feedback,\n",
    "                    \"status\": status,\n",
    "                    \"gradedAt\": datetime.now()\n",
    "                }\n",
    "            }\n",
    "        )\n",
    "\n",
    "        if result.matched_count > 0:\n",
    "            print(f\"Updated grade and status for submission {submission_id} successfully.\\n\")\n",
    "\n",
    "            # Display the updated submission\n",
    "            updated_submission = db.submissions.find_one(\n",
    "                {\"submissionId\": submission_id},\n",
    "                {\"_id\": 0, \"submissionId\": 1, \"grade\": 1, \"feedback\": 1, \"status\": 1, \"gradedAt\": 1}\n",
    "            )\n",
    "            \n",
    "        else:\n",
    "            print(f\"No submission found with ID {submission_id}\")\n",
    "\n",
    "    except Exception as e:\n",
    "        print(f\"Error updating grade for submission {submission_id}: {e}\")\n",
    "\n",
    "\n",
    "update_submission_grade(db, \"SUB010\", 85, \"Great improvement!\", \"graded\")"
   ]
  },
  {
   "cell_type": "markdown",
   "id": "9bff97fa",
   "metadata": {},
   "source": [
    "## Adding Tags"
   ]
  },
  {
   "cell_type": "code",
   "execution_count": 36,
   "id": "0315b7f0",
   "metadata": {},
   "outputs": [
    {
     "name": "stdout",
     "output_type": "stream",
     "text": [
      "Tags updated for course CRS005 successfully.\n",
      "\n"
     ]
    }
   ],
   "source": [
    "def update_course_tags(db, course_id, tags):\n",
    "    try:\n",
    "        result = db.Courses.update_one(\n",
    "            {\"courseId\": course_id},\n",
    "            {\"$addToSet\": {\"tags\": {\"$each\": tags}}}\n",
    "        )\n",
    "\n",
    "        if result.matched_count > 0:\n",
    "            print(f\"Tags updated for course {course_id} successfully.\\n\")\n",
    "\n",
    "            # Display the updated course tags\n",
    "            updated_course = db.courses.find_one(\n",
    "                {\"courseId\": course_id},\n",
    "                {\"_id\": 0, \"courseId\": 1, \"title\": 1, \"tags\": 1}\n",
    "            )\n",
    "            \n",
    "        else:\n",
    "            print(f\" No course found with ID {course_id}\")\n",
    "\n",
    "    except Exception as e:\n",
    "        print(f\"Error updating tags for course {course_id}: {e}\")\n",
    "\n",
    "\n",
    "update_course_tags(db, \"CRS005\", [\"AI\", \"Data Science\", \"Python\"])"
   ]
  },
  {
   "cell_type": "markdown",
   "id": "ba7d0ab3",
   "metadata": {},
   "source": [
    "## Delet a user"
   ]
  },
  {
   "cell_type": "code",
   "execution_count": null,
   "id": "ec0a6f93",
   "metadata": {},
   "outputs": [
    {
     "name": "stdout",
     "output_type": "stream",
     "text": [
      " User STU006 has been deactivated successfully.\n"
     ]
    }
   ],
   "source": [
    "from datetime import datetime\n",
    "\n",
    "def deactivate_user(db, user_id):\n",
    "    try:\n",
    "        result = db.Users.update_one(\n",
    "            {\"userId\": user_id},\n",
    "            {\"$set\": {\"isActive\": False, \"updatedAt\": datetime.now()}}\n",
    "        )\n",
    "\n",
    "        if result.matched_count > 0:\n",
    "            print(f\" User {user_id} has been deactivated successfully.\")\n",
    "        else:\n",
    "            print(f\"No user found with ID {user_id}.\")\n",
    "\n",
    "    except Exception as e:\n",
    "        print(f\" Error deactivating user {user_id}: {e}\")\n",
    "\n",
    "\n",
    "deactivate_user(db, \"STU006\")"
   ]
  },
  {
   "cell_type": "markdown",
   "id": "f03b02c3",
   "metadata": {},
   "source": [
    "## Delete enrollment"
   ]
  },
  {
   "cell_type": "code",
   "execution_count": 40,
   "id": "a1eb2472",
   "metadata": {},
   "outputs": [
    {
     "name": "stdout",
     "output_type": "stream",
     "text": [
      "Enrollment ENR005 deleted successfully.\n"
     ]
    }
   ],
   "source": [
    "def delete_enrollment(db, enrollment_id):\n",
    "    try:\n",
    "        result = db.Enrollments.delete_one({\"enrollmentId\": enrollment_id})\n",
    "        \n",
    "        if result.deleted_count > 0:\n",
    "            print(f\"Enrollment {enrollment_id} deleted successfully.\")\n",
    "        else:\n",
    "            print(f\" No enrollment found with ID {enrollment_id}.\")\n",
    "\n",
    "    except Exception as e:\n",
    "        print(f\"Error deleting enrollment {enrollment_id}: {e}\")\n",
    "\n",
    "\n",
    "delete_enrollment(db, \"ENR005\")"
   ]
  },
  {
   "cell_type": "markdown",
   "id": "f62ae693",
   "metadata": {},
   "source": [
    "## Deleting Lesson"
   ]
  },
  {
   "cell_type": "code",
   "execution_count": 41,
   "id": "dbc89fdb",
   "metadata": {},
   "outputs": [
    {
     "name": "stdout",
     "output_type": "stream",
     "text": [
      "Deleted 1 lesson(s) with ID LES008\n"
     ]
    }
   ],
   "source": [
    "def delete_lesson(db, lesson_id):\n",
    "    try:\n",
    "        delete_result = db.Lessons.delete_one({\"lessonId\": lesson_id})\n",
    "        print(f\"Deleted {delete_result.deleted_count} lesson(s) with ID {lesson_id}\")\n",
    "    except Exception as e:\n",
    "        print(f\"Error deleting lesson {lesson_id}: {e}\")\n",
    "\n",
    "\n",
    "delete_lesson(db, \"LES008\")\n"
   ]
  }
 ],
 "metadata": {
  "kernelspec": {
   "display_name": "base",
   "language": "python",
   "name": "python3"
  },
  "language_info": {
   "codemirror_mode": {
    "name": "ipython",
    "version": 3
   },
   "file_extension": ".py",
   "mimetype": "text/x-python",
   "name": "python",
   "nbconvert_exporter": "python",
   "pygments_lexer": "ipython3",
   "version": "3.12.4"
  }
 },
 "nbformat": 4,
 "nbformat_minor": 5
}
