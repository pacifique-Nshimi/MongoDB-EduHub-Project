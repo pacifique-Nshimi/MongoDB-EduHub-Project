{
 "cells": [
  {
   "cell_type": "code",
   "execution_count": 1,
   "id": "4e8b0209",
   "metadata": {},
   "outputs": [],
   "source": [
    "import pandas as pd\n",
    "from datetime import datetime, timedelta\n",
    "from pymongo import MongoClient\n",
    "\n",
    "# Connect to MongoDB\n",
    "client = MongoClient('mongodb://localhost:27017/')\n",
    "db = client['eduhub_db']\n"
   ]
  },
  {
   "cell_type": "markdown",
   "id": "45517985",
   "metadata": {},
   "source": [
    "## Courses Between 50 and 20 dollars"
   ]
  },
  {
   "cell_type": "code",
   "execution_count": 5,
   "id": "13402ddd",
   "metadata": {},
   "outputs": [
    {
     "name": "stdout",
     "output_type": "stream",
     "text": [
      "Courses priced between $50 and $200:\n",
      "\n",
      "Course ID: CRS003 | Price: $148.82 | Title: Full-Stack Web Development\n",
      "Course ID: CRS002 | Price: $133.25 | Title: Introduction to Data Science\n",
      "Course ID: CRS008 | Price: $111.76 | Title: Serverless Applications on Cloud\n",
      "Course ID: CRS005 | Price: $95.33 | Title: Serverless Applications on Cloud\n",
      "Course ID: CRS001 | Price: $95.23 | Title: DevOps Fundamentals\n",
      "Course ID: CRS004 | Price: $65.03 | Title: Cloud Computing with AWS\n",
      "Course ID: CRS007 | Price: $63.21 | Title: Serverless Applications on Cloud\n",
      "Course ID: CRS006 | Price: $57.21 | Title: Frontend Development with React\n"
     ]
    }
   ],
   "source": [
    "min_price = 50\n",
    "max_price = 200\n",
    "\n",
    "try:\n",
    "    courses = db.Courses.find(\n",
    "        {\"price\": {\"$gte\": min_price, \"$lte\": max_price}},\n",
    "        {\"_id\": 0, \"courseId\": 1, \"title\": 1, \"price\": 1}\n",
    "    ).sort(\"price\", -1)\n",
    "\n",
    "    courses_list = list(courses)\n",
    "\n",
    "    if courses_list:\n",
    "        print(f\"Courses priced between ${min_price} and ${max_price}:\\n\")\n",
    "        for course in courses_list:\n",
    "            print(f\"Course ID: {course['courseId']} | Price: ${course['price']} | Title: {course['title']}\")\n",
    "    else:\n",
    "        print(\"No courses found in the specified price range.\")\n",
    "\n",
    "except Exception as e:\n",
    "    print(f\"Error fetching courses by price range: {e}\")"
   ]
  },
  {
   "cell_type": "markdown",
   "id": "c418e60b",
   "metadata": {},
   "source": [
    "## Courses in the last 6 months "
   ]
  },
  {
   "cell_type": "code",
   "execution_count": 4,
   "id": "410c2248",
   "metadata": {},
   "outputs": [
    {
     "name": "stdout",
     "output_type": "stream",
     "text": [
      "Users who joined in the last 6 months:\n",
      "\n",
      "STU008 - Alan Evans | Joined: 2025-09-20\n",
      "STU006 - Eric Mcfarland | Joined: 2025-09-11\n",
      "STU011 - Anthony Washington | Joined: 2025-06-18\n",
      "STU012 - Colton Wilkinson | Joined: 2025-06-16\n",
      "STU014 - Steven Velazquez | Joined: 2025-05-31\n",
      "STU009 - Audrey Watson | Joined: 2025-04-28\n",
      "STU002 - Sarah Duran | Joined: 2025-04-08\n"
     ]
    }
   ],
   "source": [
    "\n",
    "months = 6\n",
    "\n",
    "try:\n",
    "    # Calculate cutoff date\n",
    "    cutoff_date = datetime.now() - timedelta(days=months * 30)\n",
    "\n",
    "    # Fetch all users\n",
    "    users = list(db.Users.find(\n",
    "        {},\n",
    "        {\"_id\": 0, \"userId\": 1, \"firstName\": 1, \"lastName\": 1, \"dateJoined\": 1}\n",
    "    ))\n",
    "\n",
    "    # Filter users who joined in the last 6 months\n",
    "    recent_users = [u for u in users if u.get(\"dateJoined\") and u[\"dateJoined\"] >= cutoff_date]\n",
    "\n",
    "    # Sort them by dateJoined (most recent first)\n",
    "    recent_users.sort(key=lambda x: x[\"dateJoined\"], reverse=True)\n",
    "\n",
    "    if recent_users:\n",
    "        print(f\"Users who joined in the last {months} months:\\n\")\n",
    "        for user in recent_users:\n",
    "            print(f\"{user['userId']} - {user['firstName']} {user['lastName']} | Joined: {user['dateJoined'].strftime('%Y-%m-%d')}\")\n",
    "    else:\n",
    "        print(f\"No users joined in the last {months} months.\")\n",
    "\n",
    "except Exception as e:\n",
    "    print(f\"Error while fetching recent users: {e}\")"
   ]
  },
  {
   "cell_type": "markdown",
   "id": "37e1d984",
   "metadata": {},
   "source": [
    "## Courses with Specific Tags"
   ]
  },
  {
   "cell_type": "code",
   "execution_count": 7,
   "id": "faeb65ee",
   "metadata": {},
   "outputs": [
    {
     "name": "stdout",
     "output_type": "stream",
     "text": [
      "Courses with tags ['python', 'Data Analysis']:\n",
      "\n",
      "CRS001 - DevOps Fundamentals | Tags: Data Analysis, AI\n",
      "CRS002 - Introduction to Data Science | Tags: Data Analysis, Web Dev, AI\n",
      "CRS003 - Full-Stack Web Development | Tags: Python, Cloud, Data Analysis\n",
      "CRS004 - Cloud Computing with AWS | Tags: Python, Data Analysis\n",
      "CRS005 - Serverless Applications on Cloud | Tags: Cloud, Data Analysis, AI, Data Science, Python\n",
      "CRS006 - Frontend Development with React | Tags: Python, Data Analysis\n"
     ]
    }
   ],
   "source": [
    "tags_to_search = [\"python\", \"Data Analysis\"]\n",
    "\n",
    "try:\n",
    "    # Find courses that contain any of the specified tags\n",
    "    courses_with_tags = db.Courses.find(\n",
    "        {\"tags\": {\"$in\": tags_to_search}},\n",
    "        {\"_id\": 0, \"courseId\": 1, \"title\": 1, \"tags\": 1}\n",
    "    )\n",
    "\n",
    "    # Convert to list\n",
    "    courses_list = list(courses_with_tags)\n",
    "\n",
    "    if courses_list:\n",
    "        print(f\"Courses with tags {tags_to_search}:\\n\")\n",
    "        for course in courses_list:\n",
    "            print(f\"{course['courseId']} - {course['title']} | Tags: {', '.join(course['tags'])}\")\n",
    "    else:\n",
    "        print(f\"No courses found with the specified tags: {tags_to_search}\")\n",
    "\n",
    "except Exception as e:\n",
    "    print(f\"Error fetching courses with tags: {e}\")"
   ]
  },
  {
   "cell_type": "markdown",
   "id": "3050d4f4",
   "metadata": {},
   "source": [
    "## Assignmnet Due in 7 days "
   ]
  },
  {
   "cell_type": "code",
   "execution_count": 9,
   "id": "50075596",
   "metadata": {},
   "outputs": [
    {
     "name": "stdout",
     "output_type": "stream",
     "text": [
      "No assignments are due in the next 7 days.\n"
     ]
    }
   ],
   "source": [
    "try:\n",
    "    # Define time range (today → next 7 days)\n",
    "    now = datetime.now()\n",
    "    end_date = now + timedelta(days=7)\n",
    "\n",
    "    # Query assignments within the date range\n",
    "    upcoming_assignments = db.Assignments.find(\n",
    "        {\"dueDate\": {\"$gte\": now, \"$lte\": end_date}},\n",
    "        {\"_id\": 0, \"assignmentId\": 1, \"title\": 1, \"dueDate\": 1}\n",
    "    )\n",
    "\n",
    "    found = False\n",
    "    for assignment in upcoming_assignments:\n",
    "        print(f\"- {assignment['title']} (Due: {assignment['dueDate']})\")\n",
    "        found = True\n",
    "\n",
    "    if not found:\n",
    "        print(\"No assignments are due in the next 7 days.\")\n",
    "\n",
    "except Exception as e:\n",
    "    print(f\"An error occurred while fetching upcoming assignments: {e}\")"
   ]
  },
  {
   "cell_type": "markdown",
   "id": "01f407e5",
   "metadata": {},
   "source": []
  },
  {
   "cell_type": "markdown",
   "id": "567c7d61",
   "metadata": {},
   "source": [
    "## Enrollment per course"
   ]
  },
  {
   "cell_type": "code",
   "execution_count": 20,
   "id": "db010e3b",
   "metadata": {},
   "outputs": [
    {
     "name": "stdout",
     "output_type": "stream",
     "text": [
      "- Frontend Development with React (CRS006): 3 enrollment(s)\n",
      "- DevOps Fundamentals (CRS001): 3 enrollment(s)\n",
      "- Serverless Applications on Cloud (CRS008): 2 enrollment(s)\n",
      "- Full-Stack Web Development (CRS003): 2 enrollment(s)\n",
      "- Serverless Applications on Cloud (CRS005): 1 enrollment(s)\n",
      "- Cloud Computing with AWS (CRS004): 1 enrollment(s)\n",
      "- Introduction to Data Science (CRS002): 1 enrollment(s)\n",
      "- Serverless Applications on Cloud (CRS007): 1 enrollment(s)\n"
     ]
    }
   ],
   "source": [
    "try:\n",
    "    # Aggregate enrollments per course\n",
    "    enrollments_per_course = db.Enrollments.aggregate([\n",
    "        {\n",
    "            \"$group\": {\n",
    "                \"_id\": \"$courseId\",\n",
    "                \"TotalEnrollments\": {\"$sum\": 1}\n",
    "            }\n",
    "        },\n",
    "        {\n",
    "            \"$lookup\": {\n",
    "                \"from\": \"Courses\",\n",
    "                \"localField\": \"_id\",\n",
    "                \"foreignField\": \"courseId\",\n",
    "                \"as\": \"course\"\n",
    "            }\n",
    "        },\n",
    "        {\"$unwind\": \"$course\"},\n",
    "        {\n",
    "            \"$project\": {\n",
    "                \"_id\": 0,\n",
    "                \"CourseId\": \"$_id\",\n",
    "                \"Title\": \"$course.title\",\n",
    "                \"TotalEnrollments\": 1\n",
    "            }\n",
    "        },\n",
    "        {\"$sort\": {\"TotalEnrollments\": -1}}\n",
    "    ])\n",
    "\n",
    "    \n",
    "    found = False\n",
    "    for record in enrollments_per_course:\n",
    "        print(f\"- {record['Title']} ({record['CourseId']}): {record['TotalEnrollments']} enrollment(s)\")\n",
    "        found = True\n",
    "\n",
    "    if not found:\n",
    "        print(\"No enrollment data found.\")\n",
    "\n",
    "except Exception as e:\n",
    "    print(f\" Error fetching enrollments per course: {e}\")"
   ]
  },
  {
   "cell_type": "markdown",
   "id": "d25d00d0",
   "metadata": {},
   "source": [
    "## Average Course Rating"
   ]
  },
  {
   "cell_type": "code",
   "execution_count": 19,
   "id": "31929951",
   "metadata": {},
   "outputs": [
    {
     "name": "stdout",
     "output_type": "stream",
     "text": [
      "Average course rating per course:\n",
      "\n",
      "Full-Stack Web Development (CRS003): 88.5\n",
      "Serverless Applications on Cloud (CRS007): 81.0\n",
      "Cloud Computing with AWS (CRS004): 73.0\n",
      "Frontend Development with React (CRS006): 59.0\n",
      "Introduction to Data Science (CRS002): None\n",
      "DevOps Fundamentals (CRS001): None\n",
      "Serverless Applications on Cloud (CRS008): None\n"
     ]
    }
   ],
   "source": [
    "try:\n",
    "    avg_course_rating = db.Submissions.aggregate([\n",
    "        {\n",
    "            \"$group\": {\n",
    "                \"_id\": \"$courseId\",\n",
    "                \"AverageRating\": {\"$avg\": \"$grade\"}\n",
    "            }\n",
    "        },\n",
    "        {\n",
    "            \"$lookup\": {\n",
    "                \"from\": \"Courses\",\n",
    "                \"localField\": \"_id\",\n",
    "                \"foreignField\": \"courseId\",\n",
    "                \"as\": \"course\"\n",
    "            }\n",
    "        },\n",
    "        {\"$unwind\": \"$course\"},\n",
    "        {\n",
    "            \"$project\": {\n",
    "                \"_id\": 0,\n",
    "                \"CourseId\": \"$_id\",\n",
    "                \"Title\": \"$course.title\",\n",
    "                \"AverageRating\": {\"$round\": [\"$AverageRating\", 2]}\n",
    "            }\n",
    "        },\n",
    "        {\"$sort\": {\"AverageRating\": -1}}\n",
    "    ])\n",
    "\n",
    "    results = list(avg_course_rating)\n",
    "\n",
    "    if results:\n",
    "        print(\"Average course rating per course:\\n\")\n",
    "        for r in results:\n",
    "            print(f\"{r['Title']} ({r['CourseId']}): {r['AverageRating']}\")\n",
    "    else:\n",
    "        print(\"No rating data found.\")\n",
    "\n",
    "except Exception as e:\n",
    "    print(f\"Error fetching average course rating: {e}\")"
   ]
  },
  {
   "cell_type": "markdown",
   "id": "caef1dda",
   "metadata": {},
   "source": [
    "## Average Course by Category"
   ]
  },
  {
   "cell_type": "code",
   "execution_count": 18,
   "id": "e967c4d4",
   "metadata": {},
   "outputs": [
    {
     "name": "stdout",
     "output_type": "stream",
     "text": [
      "Category: Web Development, Total Courses: 6, Average Rating: 78.67\n",
      "Category: Cloud Computing, Total Courses: 4, Average Rating: 77.0\n",
      "Category: Data Science, Total Courses: 2, Average Rating: None\n"
     ]
    }
   ],
   "source": [
    "try:\n",
    "    avg_rating_by_category = db.Courses.aggregate([\n",
    "        {\n",
    "            \"$lookup\": {\n",
    "                \"from\": \"Submissions\",\n",
    "                \"localField\": \"courseId\",\n",
    "                \"foreignField\": \"courseId\",\n",
    "                \"as\": \"grades\"\n",
    "            }\n",
    "        },\n",
    "        {\"$unwind\": \"$grades\"},\n",
    "        {\n",
    "            \"$group\": {\n",
    "                \"_id\": \"$category\",\n",
    "                \"AverageRating\": {\"$avg\": \"$grades.grade\"},\n",
    "                \"TotalCourses\": {\"$sum\": 1}\n",
    "            }\n",
    "        },\n",
    "        {\n",
    "            \"$project\": {\n",
    "                \"_id\": 0,\n",
    "                \"Category\": \"$_id\",\n",
    "                \"AverageRating\": {\"$round\": [\"$AverageRating\", 2]},\n",
    "                \"TotalCourses\": 1\n",
    "            }\n",
    "        },\n",
    "        {\"$sort\": {\"AverageRating\": -1}}\n",
    "    ])\n",
    "\n",
    "    results = list(avg_rating_by_category)\n",
    "\n",
    "    if results:\n",
    "        \n",
    "        for r in results:\n",
    "            print(f\"Category: {r['Category']}, Total Courses: {r['TotalCourses']}, Average Rating: {r['AverageRating']}\")\n",
    "    else:\n",
    "        print(\"No rating data found by category.\")\n",
    "\n",
    "except Exception as e:\n",
    "    print(f\"Error fetching rating by category: {e}\")"
   ]
  },
  {
   "cell_type": "markdown",
   "id": "9b3752ef",
   "metadata": {},
   "source": [
    "## Average Grade per Student "
   ]
  },
  {
   "cell_type": "code",
   "execution_count": 21,
   "id": "2f4010ae",
   "metadata": {},
   "outputs": [
    {
     "name": "stdout",
     "output_type": "stream",
     "text": [
      "Average Grade per Student:\n",
      "\n",
      "Sarah Duran (haleypatterson@example.net) — Average Grade: 92.0\n",
      "Steven Velazquez (ztrujillo@example.org) — Average Grade: 85.0\n",
      "Colton Wilkinson (maria70@example.net) — Average Grade: 81.0\n",
      "Lori Hernandez (robert66@example.net) — Average Grade: 73.0\n",
      "Nancy Baldwin (farleykristen@example.org) — Average Grade: 59.0\n",
      "Fernando Bowman (kreyes@example.net) — Average Grade: None\n",
      "Audrey Watson (dawn87@example.net) — Average Grade: None\n",
      "Mary Benson (jessewillis@example.net) — Average Grade: None\n",
      "Micheal Boyer (hsmith@example.org) — Average Grade: None\n"
     ]
    }
   ],
   "source": [
    "try:\n",
    "    avg_grade_per_student = db.Submissions.aggregate([\n",
    "        {\n",
    "            \"$group\": {\n",
    "                \"_id\": \"$studentId\",\n",
    "                \"averageGrade\": {\"$avg\": \"$grade\"}\n",
    "            }\n",
    "        },\n",
    "        {\"$sort\": {\"averageGrade\": -1}},\n",
    "        {\n",
    "            \"$lookup\": {\n",
    "                \"from\": \"Users\",   # use correct capitalization\n",
    "                \"localField\": \"_id\",\n",
    "                \"foreignField\": \"userId\",\n",
    "                \"as\": \"student\"\n",
    "            }\n",
    "        },\n",
    "        {\"$unwind\": \"$student\"},\n",
    "        {\n",
    "            \"$project\": {\n",
    "                \"_id\": 0,\n",
    "                \"FirstName\": \"$student.firstName\",\n",
    "                \"LastName\": \"$student.lastName\",\n",
    "                \"Email\": \"$student.email\",\n",
    "                \"AverageGrade\": {\"$round\": [\"$averageGrade\", 2]}\n",
    "            }\n",
    "        }\n",
    "    ])\n",
    "\n",
    "    results = list(avg_grade_per_student)\n",
    "\n",
    "    if results:\n",
    "        print(\"Average Grade per Student:\\n\")\n",
    "        for r in results:\n",
    "            print(f\"{r['FirstName']} {r['LastName']} ({r['Email']}) — Average Grade: {r['AverageGrade']}\")\n",
    "    else:\n",
    "        print(\"No grade data found for students.\")\n",
    "\n",
    "except Exception as e:\n",
    "    print(f\"Error fetching average grade per student: {e}\")"
   ]
  },
  {
   "cell_type": "markdown",
   "id": "3bf56515",
   "metadata": {},
   "source": [
    "## Completion Rate"
   ]
  },
  {
   "cell_type": "code",
   "execution_count": 22,
   "id": "f9eda022",
   "metadata": {},
   "outputs": [
    {
     "name": "stdout",
     "output_type": "stream",
     "text": [
      "Completion Rate per Course:\n",
      "\n",
      "Serverless Applications on Cloud (CRS007) — 1 of 1 completed (100.0%)\n",
      "Full-Stack Web Development (CRS003) — 2 of 2 completed (100.0%)\n",
      "Cloud Computing with AWS (CRS004) — 1 of 1 completed (100.0%)\n",
      "Frontend Development with React (CRS006) — 1 of 3 completed (33.33%)\n",
      "Serverless Applications on Cloud (CRS005) — 0 of 1 completed (0.0%)\n",
      "Introduction to Data Science (CRS002) — 0 of 1 completed (0.0%)\n",
      "DevOps Fundamentals (CRS001) — 0 of 3 completed (0.0%)\n",
      "Serverless Applications on Cloud (CRS008) — 0 of 2 completed (0.0%)\n"
     ]
    }
   ],
   "source": [
    "try:\n",
    "    completion_rate = db.Courses.aggregate([\n",
    "        {\n",
    "            \"$lookup\": {\n",
    "                \"from\": \"Submissions\",\n",
    "                \"localField\": \"courseId\",\n",
    "                \"foreignField\": \"courseId\",\n",
    "                \"as\": \"submissions\"\n",
    "            }\n",
    "        },\n",
    "        {\n",
    "            \"$lookup\": {\n",
    "                \"from\": \"Enrollments\",\n",
    "                \"localField\": \"courseId\",\n",
    "                \"foreignField\": \"courseId\",\n",
    "                \"as\": \"enrollments\"\n",
    "            }\n",
    "        },\n",
    "        {\n",
    "            \"$addFields\": {\n",
    "                \"completedCount\": {\n",
    "                    \"$size\": {\n",
    "                        \"$filter\": {\n",
    "                            \"input\": \"$submissions\",\n",
    "                            \"as\": \"s\",\n",
    "                            \"cond\": { \"$eq\": [\"$$s.status\", \"graded\"] }\n",
    "                        }\n",
    "                    }\n",
    "                },\n",
    "                \"totalEnrolled\": { \"$size\": \"$enrollments\" }\n",
    "            }\n",
    "        },\n",
    "        {\n",
    "            \"$addFields\": {\n",
    "                \"completionRate\": {\n",
    "                    \"$cond\": [\n",
    "                        { \"$gt\": [\"$totalEnrolled\", 0] },\n",
    "                        { \"$multiply\": [{ \"$divide\": [\"$completedCount\", \"$totalEnrolled\"] }, 100] },\n",
    "                        0\n",
    "                    ]\n",
    "                }\n",
    "            }\n",
    "        },\n",
    "        {\n",
    "            \"$project\": {\n",
    "                \"_id\": 0,\n",
    "                \"CourseId\": \"$courseId\",\n",
    "                \"Title\": \"$title\",\n",
    "                \"CompletionRate\": { \"$round\": [\"$completionRate\", 2] },\n",
    "                \"Completed\": \"$completedCount\",\n",
    "                \"TotalEnrolled\": \"$totalEnrolled\"\n",
    "            }\n",
    "        },\n",
    "        { \"$sort\": { \"CompletionRate\": -1 } }\n",
    "    ])\n",
    "\n",
    "    results = list(completion_rate)\n",
    "\n",
    "    if results:\n",
    "        print(\"Completion Rate per Course:\\n\")\n",
    "        for r in results:\n",
    "            print(f\"{r['Title']} ({r['CourseId']}) — {r['Completed']} of {r['TotalEnrolled']} completed ({r['CompletionRate']}%)\")\n",
    "    else:\n",
    "        print(\"No completion data found.\")\n",
    "\n",
    "except Exception as e:\n",
    "    print(f\"Error calculating completion rate: {e}\")"
   ]
  },
  {
   "cell_type": "markdown",
   "id": "637a1e59",
   "metadata": {},
   "source": [
    "## Top performing STUDENT"
   ]
  },
  {
   "cell_type": "code",
   "execution_count": 23,
   "id": "9cfb2d49",
   "metadata": {},
   "outputs": [
    {
     "name": "stdout",
     "output_type": "stream",
     "text": [
      "Top 5 Students by Average Grade:\n",
      "\n",
      "Sarah Duran (haleypatterson@example.net) — Average Grade: 92.0\n",
      "Steven Velazquez (ztrujillo@example.org) — Average Grade: 85.0\n",
      "Colton Wilkinson (maria70@example.net) — Average Grade: 81.0\n",
      "Lori Hernandez (robert66@example.net) — Average Grade: 73.0\n",
      "Nancy Baldwin (farleykristen@example.org) — Average Grade: 59.0\n"
     ]
    }
   ],
   "source": [
    "top_n = 5\n",
    "\n",
    "try:\n",
    "    top_students = db.Submissions.aggregate([\n",
    "        {\n",
    "            \"$group\": {\n",
    "                \"_id\": \"$studentId\",\n",
    "                \"averageGrade\": {\"$avg\": \"$grade\"}\n",
    "            }\n",
    "        },\n",
    "        {\"$sort\": {\"averageGrade\": -1}},\n",
    "        {\"$limit\": top_n},\n",
    "        {\n",
    "            \"$lookup\": {\n",
    "                \"from\": \"Users\",\n",
    "                \"localField\": \"_id\",\n",
    "                \"foreignField\": \"userId\",\n",
    "                \"as\": \"student\"\n",
    "            }\n",
    "        },\n",
    "        {\"$unwind\": \"$student\"},\n",
    "        {\n",
    "            \"$project\": {\n",
    "                \"_id\": 0,\n",
    "                \"FirstName\": \"$student.firstName\",\n",
    "                \"LastName\": \"$student.lastName\",\n",
    "                \"Email\": \"$student.email\",\n",
    "                \"AverageGrade\": {\"$round\": [\"$averageGrade\", 2]}\n",
    "            }\n",
    "        }\n",
    "    ])\n",
    "\n",
    "    results = list(top_students)\n",
    "\n",
    "    if results:\n",
    "        print(f\"Top {top_n} Students by Average Grade:\\n\")\n",
    "        for r in results:\n",
    "            print(f\"{r['FirstName']} {r['LastName']} ({r['Email']}) — Average Grade: {r['AverageGrade']}\")\n",
    "    else:\n",
    "        print(\"No student grade data found.\")\n",
    "\n",
    "except Exception as e:\n",
    "    print(f\"Error fetching top students: {e}\")"
   ]
  },
  {
   "cell_type": "markdown",
   "id": "f4e26bfb",
   "metadata": {},
   "source": [
    "## Most Popular Course Category"
   ]
  },
  {
   "cell_type": "code",
   "execution_count": 24,
   "id": "a1367677",
   "metadata": {},
   "outputs": [
    {
     "name": "stdout",
     "output_type": "stream",
     "text": [
      "Most Popular Course Categories:\n",
      "\n",
      "Category: Cloud Computing, Total Enrollments: 8\n",
      "Category: Web Development, Total Enrollments: 5\n",
      "Category: Data Science, Total Enrollments: 1\n"
     ]
    }
   ],
   "source": [
    "try:\n",
    "    popular_categories = db.Enrollments.aggregate([\n",
    "        {\n",
    "            \"$lookup\": {\n",
    "                \"from\": \"Courses\",\n",
    "                \"localField\": \"courseId\",\n",
    "                \"foreignField\": \"courseId\",\n",
    "                \"as\": \"course\"\n",
    "            }\n",
    "        },\n",
    "        {\"$unwind\": \"$course\"},\n",
    "        {\n",
    "            \"$group\": {\n",
    "                \"_id\": \"$course.category\",\n",
    "                \"totalEnrollments\": {\"$sum\": 1}\n",
    "            }\n",
    "        },\n",
    "        {\"$sort\": {\"totalEnrollments\": -1}}\n",
    "    ])\n",
    "\n",
    "    results = list(popular_categories)\n",
    "\n",
    "    if results:\n",
    "        print(\"Most Popular Course Categories:\\n\")\n",
    "        for r in results:\n",
    "            print(f\"Category: {r['_id']}, Total Enrollments: {r['totalEnrollments']}\")\n",
    "    else:\n",
    "        print(\"No enrollment data found.\")\n",
    "\n",
    "except Exception as e:\n",
    "    print(f\"Error fetching popular course categories: {e}\")"
   ]
  },
  {
   "cell_type": "markdown",
   "id": "44b6069e",
   "metadata": {},
   "source": [
    "## Monthly Enrollment"
   ]
  },
  {
   "cell_type": "code",
   "execution_count": null,
   "id": "401b8b7d",
   "metadata": {},
   "outputs": [
    {
     "name": "stdout",
     "output_type": "stream",
     "text": [
      "Monthly Enrollment Trends:\n",
      "\n",
      "Year: 2024, Month: 10, TotalEnrollments: 2\n",
      "Year: 2024, Month: 12, TotalEnrollments: 1\n",
      "Year: 2025, Month: 1, TotalEnrollments: 2\n",
      "Year: 2025, Month: 2, TotalEnrollments: 1\n",
      "Year: 2025, Month: 4, TotalEnrollments: 2\n",
      "Year: 2025, Month: 6, TotalEnrollments: 1\n",
      "Year: 2025, Month: 7, TotalEnrollments: 1\n",
      "Year: 2025, Month: 8, TotalEnrollments: 2\n",
      "Year: 2025, Month: 9, TotalEnrollments: 2\n"
     ]
    }
   ],
   "source": [
    "\n",
    "try:\n",
    "    # Aggregate monthly enrollment trends\n",
    "    monthly_trends = db.Enrollments.aggregate([\n",
    "        {\n",
    "            \"$group\": {\n",
    "                \"_id\": {\"year\": {\"$year\": \"$enrolledAt\"}, \"month\": {\"$month\": \"$enrolledAt\"}},\n",
    "                \"totalEnrollments\": {\"$sum\": 1}\n",
    "            }\n",
    "        },\n",
    "        {\"$sort\": {\"_id.year\": 1, \"_id.month\": 1}}\n",
    "    ])\n",
    "\n",
    "    trends_list = list(monthly_trends)\n",
    "\n",
    "    if trends_list:\n",
    "        print(\"Monthly Enrollment Trends:\\n\")\n",
    "        for item in trends_list:\n",
    "            year = item['_id']['year']\n",
    "            month = item['_id']['month']\n",
    "            total = item['totalEnrollments']\n",
    "            print(f\"Year: {year}, Month: {month}, TotalEnrollments: {total}\")\n",
    "    else:\n",
    "        print(\"No enrollment data found.\")\n",
    "\n",
    "except Exception as e:\n",
    "    print(f\"Error fetching monthly enrollment trends: {e}\")"
   ]
  },
  {
   "cell_type": "markdown",
   "id": "e72f89ff",
   "metadata": {},
   "source": [
    "## Total Submission"
   ]
  },
  {
   "cell_type": "code",
   "execution_count": null,
   "id": "46b62bc8",
   "metadata": {},
   "outputs": [
    {
     "name": "stdout",
     "output_type": "stream",
     "text": [
      "Student Engagement Metrics:\n",
      "\n",
      "StudentID: STU003, TotalSubmissions: 3\n",
      "StudentID: STU010, TotalSubmissions: 2\n",
      "StudentID: STU005, TotalSubmissions: 1\n",
      "StudentID: STU014, TotalSubmissions: 1\n",
      "StudentID: STU015, TotalSubmissions: 1\n",
      "StudentID: STU012, TotalSubmissions: 1\n",
      "StudentID: STU009, TotalSubmissions: 1\n",
      "StudentID: STU002, TotalSubmissions: 1\n",
      "StudentID: STU004, TotalSubmissions: 1\n"
     ]
    }
   ],
   "source": [
    "\n",
    "try:\n",
    "    # Aggregate total submissions per student\n",
    "    engagement_metrics = db.Submissions.aggregate([\n",
    "        {\n",
    "            \"$group\": {\n",
    "                \"_id\": \"$studentId\",\n",
    "                \"totalSubmissions\": {\"$sum\": 1}\n",
    "            }\n",
    "        },\n",
    "        {\"$sort\": {\"totalSubmissions\": -1}}\n",
    "    ])\n",
    "\n",
    "    # Convert to list and print directly\n",
    "    engagement_list = list(engagement_metrics)\n",
    "\n",
    "    if engagement_list:\n",
    "        print(\"Student Engagement Metrics:\\n\")\n",
    "        for item in engagement_list:\n",
    "            print(f\"StudentID: {item['_id']}, TotalSubmissions: {item['totalSubmissions']}\")\n",
    "    else:\n",
    "        print(\"No submission data found.\")\n",
    "\n",
    "except Exception as e:\n",
    "    print(f\"Error fetching student engagement metrics: {e}\")"
   ]
  },
  {
   "cell_type": "code",
   "execution_count": null,
   "id": "409d6b37",
   "metadata": {},
   "outputs": [],
   "source": []
  }
 ],
 "metadata": {
  "kernelspec": {
   "display_name": "base",
   "language": "python",
   "name": "python3"
  },
  "language_info": {
   "codemirror_mode": {
    "name": "ipython",
    "version": 3
   },
   "file_extension": ".py",
   "mimetype": "text/x-python",
   "name": "python",
   "nbconvert_exporter": "python",
   "pygments_lexer": "ipython3",
   "version": "3.12.4"
  }
 },
 "nbformat": 4,
 "nbformat_minor": 5
}
